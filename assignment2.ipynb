{
 "cells": [
  {
   "cell_type": "code",
   "execution_count": null,
   "metadata": {
    "colab": {
     "base_uri": "https://localhost:8080/",
     "height": 235
    },
    "colab_type": "code",
    "id": "hG0uJqEKtA1V",
    "outputId": "4955f480-42bf-40c4-dcd9-e891a83344ef"
   },
   "outputs": [],
   "source": [
    "import pandas as pd\n",
    "import datetime\n",
    "import pandas_datareader.data as web\n",
    "from pandas import Series, DataFrame\n",
    "\n",
    "\n",
    "start = datetime.datetime(2018, 1, 1)\n",
    "end = datetime.datetime(2019, 9, 6)\n",
    "\n",
    "df = web.DataReader(\"GOOG\", 'yahoo', start, end)\n",
    "df.tail()"
   ]
  },
  {
   "cell_type": "code",
   "execution_count": null,
   "metadata": {
    "colab": {},
    "colab_type": "code",
    "id": "tWK6aNl5tQhJ"
   },
   "outputs": [],
   "source": [
    "close_px = df['Adj Close']\n",
    "mavg = close_px.rolling(window=100).mean()"
   ]
  },
  {
   "cell_type": "code",
   "execution_count": null,
   "metadata": {
    "colab": {
     "base_uri": "https://localhost:8080/",
     "height": 439
    },
    "colab_type": "code",
    "id": "F8ynOCmltWUY",
    "outputId": "58cee244-89c4-4dfd-b32c-70518be8f5fb"
   },
   "outputs": [],
   "source": [
    "%matplotlib inline\n",
    "import matplotlib.pyplot as plt\n",
    "from matplotlib import style\n",
    "\n",
    "# Adjusting the size of matplotlib\n",
    "import matplotlib as mpl\n",
    "mpl.rc('figure', figsize=(8, 7))\n",
    "mpl.__version__\n",
    "\n",
    "# Adjusting the style of matplotlib\n",
    "style.use('ggplot')\n",
    "\n",
    "close_px.plot(label='AAPL')\n",
    "mavg.plot(label='mavg')\n",
    "plt.legend()"
   ]
  },
  {
   "cell_type": "code",
   "execution_count": null,
   "metadata": {
    "colab": {
     "base_uri": "https://localhost:8080/",
     "height": 439
    },
    "colab_type": "code",
    "id": "138yxiF5ta25",
    "outputId": "95a246c8-15bf-478b-adf6-58dc5a930d78"
   },
   "outputs": [],
   "source": [
    "rets = close_px / close_px.shift(1) - 1\n",
    "rets.plot(label='return')"
   ]
  },
  {
   "cell_type": "code",
   "execution_count": null,
   "metadata": {
    "colab": {
     "base_uri": "https://localhost:8080/",
     "height": 235
    },
    "colab_type": "code",
    "id": "5hH2rAj8t7vL",
    "outputId": "e02f5cae-2ca4-4704-f224-5d66656fdc4a"
   },
   "outputs": [],
   "source": [
    "dfcomp = web.DataReader(['AAPL', 'GE', 'GOOG', 'IBM', 'MSFT'],'yahoo',start=start,end=end)['Adj Close']\n",
    "dfcomp.head()"
   ]
  },
  {
   "cell_type": "code",
   "execution_count": null,
   "metadata": {
    "colab": {
     "base_uri": "https://localhost:8080/",
     "height": 235
    },
    "colab_type": "code",
    "id": "8Qj6jlDSt_su",
    "outputId": "5c1601db-613e-4f69-86ad-adf0e714ab65"
   },
   "outputs": [],
   "source": [
    "retscomp = dfcomp.pct_change()\n",
    "\n",
    "corr = retscomp.corr()\n",
    "corr"
   ]
  },
  {
   "cell_type": "code",
   "execution_count": null,
   "metadata": {
    "colab": {
     "base_uri": "https://localhost:8080/",
     "height": 466
    },
    "colab_type": "code",
    "id": "fdohdbt6uF_M",
    "outputId": "d9f83c49-33b2-4ff1-c7a0-e51d4239d5fb"
   },
   "outputs": [],
   "source": [
    "plt.scatter(retscomp.AAPL, retscomp.GE)\n",
    "plt.xlabel('Returns AAPL')\n",
    "plt.ylabel('Returns GE')"
   ]
  },
  {
   "cell_type": "code",
   "execution_count": null,
   "metadata": {
    "colab": {
     "base_uri": "https://localhost:8080/",
     "height": 626
    },
    "colab_type": "code",
    "id": "0jYotWNmudbe",
    "outputId": "fb11b7ad-894d-4393-80b0-e9819c464e25"
   },
   "outputs": [],
   "source": [
    "from pandas.plotting import scatter_matrix\n",
    "scatter_matrix(retscomp, diagonal='kde', figsize=(10, 10));"
   ]
  },
  {
   "cell_type": "code",
   "execution_count": null,
   "metadata": {
    "colab": {
     "base_uri": "https://localhost:8080/",
     "height": 421
    },
    "colab_type": "code",
    "id": "uCkl8b-rui_s",
    "outputId": "8f7a9763-e2b4-4965-d602-fb7fca02b9c5"
   },
   "outputs": [],
   "source": [
    "plt.imshow(corr, cmap='hot', interpolation='none')\n",
    "plt.colorbar()\n",
    "plt.xticks(range(len(corr)), corr.columns)\n",
    "plt.yticks(range(len(corr)), corr.columns);"
   ]
  },
  {
   "cell_type": "code",
   "execution_count": null,
   "metadata": {
    "colab": {
     "base_uri": "https://localhost:8080/",
     "height": 449
    },
    "colab_type": "code",
    "id": "DGkus4nSun-9",
    "outputId": "73ad3f49-8a4b-44be-a5d2-8b113e530a18"
   },
   "outputs": [],
   "source": [
    "plt.scatter(retscomp.mean(), retscomp.std())\n",
    "plt.xlabel('Expected returns')\n",
    "plt.ylabel('Risk')\n",
    "for label, x, y in zip(retscomp.columns, retscomp.mean(), retscomp.std()):\n",
    "    plt.annotate(\n",
    "        label, \n",
    "        xy = (x, y), xytext = (20, -20),\n",
    "        textcoords = 'offset points', ha = 'right', va = 'bottom',\n",
    "        bbox = dict(boxstyle = 'round,pad=0.5', fc = 'yellow', alpha = 0.5),\n",
    "        arrowprops = dict(arrowstyle = '->', connectionstyle = 'arc3,rad=0'))"
   ]
  },
  {
   "cell_type": "code",
   "execution_count": null,
   "metadata": {
    "colab": {
     "base_uri": "https://localhost:8080/",
     "height": 235
    },
    "colab_type": "code",
    "id": "Y5y2eWzHOKJw",
    "outputId": "ccd6db3c-e1d7-4bfd-8913-11e9ac054b66"
   },
   "outputs": [],
   "source": [
    "df.loc[:,['Adj Close','Volume']].head()"
   ]
  },
  {
   "cell_type": "code",
   "execution_count": null,
   "metadata": {
    "colab": {
     "base_uri": "https://localhost:8080/",
     "height": 235
    },
    "colab_type": "code",
    "id": "rGA6aerIur8R",
    "outputId": "4948a301-99ab-4f71-9c76-478b0c09a6f3"
   },
   "outputs": [],
   "source": [
    "#Feature Engineering\n",
    "dfreg = df.loc[:,['Adj Close','Volume']]\n",
    "dfreg['HL_PCT'] = (df['High'] - df['Low']) / df['Close'] * 100.0\n",
    "dfreg['PCT_change'] = (df['Close'] - df['Open']) / df['Open'] * 100.0\n",
    "dfreg.head()"
   ]
  },
  {
   "cell_type": "code",
   "execution_count": null,
   "metadata": {
    "colab": {
     "base_uri": "https://localhost:8080/",
     "height": 252
    },
    "colab_type": "code",
    "id": "qxi8LkYoULnc",
    "outputId": "986c7630-0881-4eb8-b619-2393dea0b861"
   },
   "outputs": [],
   "source": [
    "forecast_out = int(math.ceil(0.01 * len(dfreg)))\n",
    "print(forecast_out)\n",
    "# Separating the label here, we want to predict the AdjClose\n",
    "forecast_col = 'Adj Close'\n",
    "#dfreg[:-forecast_out].head()\n",
    "dfreg.head()\n",
    "#dfreg[forecast_col].head()\n",
    "#dfreg[forecast_col].shift(-forecast_out).head()"
   ]
  },
  {
   "cell_type": "code",
   "execution_count": null,
   "metadata": {
    "colab": {},
    "colab_type": "code",
    "id": "gqdBnAZRWlah"
   },
   "outputs": [],
   "source": [
    "\n",
    "forecast_col = 'Adj Close'\n",
    "dfreg['label'] = dfreg[forecast_col].shift(-forecast_out)\n",
    "X = np.array(dfreg.drop(['label'], 1))\n",
    "# Scale the X so that everyone can have the same distribution for linear regression\n",
    "X = preprocessing.scale(X)\n",
    "\n",
    "X_lately = X[-forecast_out:]\n",
    "\n",
    "#X[:-forecast_out]"
   ]
  },
  {
   "cell_type": "code",
   "execution_count": null,
   "metadata": {
    "colab": {
     "base_uri": "https://localhost:8080/",
     "height": 68
    },
    "colab_type": "code",
    "id": "iIKxV5H1ux53",
    "outputId": "bb13c3e4-e948-4d05-a032-e21849dfdcaa"
   },
   "outputs": [],
   "source": [
    "import math\n",
    "import numpy as np\n",
    "\n",
    "\n",
    "\n",
    "# Drop missing value\n",
    "dfreg.fillna(value=-99999, inplace=True)\n",
    "\n",
    "print(dfreg.shape)\n",
    "# We want to separate 1 percent of the data to forecast\n",
    "forecast_out = int(math.ceil(0.01 * len(dfreg)))\n",
    "\n",
    "# Separating the label here, we want to predict the AdjClose\n",
    "forecast_col = 'Adj Close'\n",
    "dfreg['label'] = dfreg[forecast_col].shift(-forecast_out)\n",
    "X = np.array(dfreg.drop(['label'], 1))\n",
    "\n",
    "# Scale the X so that everyone can have the same distribution for linear regression\n",
    "X = preprocessing.scale(X)\n",
    "\n",
    "# Finally We want to find Data Series of late X and early X (train) for model generation and evaluation\n",
    "X_lately = X[-forecast_out:]\n",
    "X = X[:-forecast_out]\n",
    "\n",
    "# Separate label and identify it as y\n",
    "y = np.array(dfreg['label'])\n",
    "y = y[:-forecast_out]\n",
    "\n",
    "print('Dimension of X',X.shape)\n",
    "print('Dimension of y',y.shape)"
   ]
  },
  {
   "cell_type": "code",
   "execution_count": null,
   "metadata": {
    "colab": {
     "base_uri": "https://localhost:8080/",
     "height": 102
    },
    "colab_type": "code",
    "id": "5j36LnhrfHyQ",
    "outputId": "d66edc6e-d36d-4888-8a58-422f6546c84c"
   },
   "outputs": [],
   "source": [
    "!pip install sklearn"
   ]
  },
  {
   "cell_type": "code",
   "execution_count": null,
   "metadata": {
    "colab": {},
    "colab_type": "code",
    "id": "SQzOuNW_eHrh"
   },
   "outputs": [],
   "source": [
    "import math\n",
    "import numpy as np\n",
    "from sklearn.model_selection import train_test_split\n",
    "\n",
    "# Separation of training and testing of model by cross validation train test split\n",
    "\n",
    "\n",
    "X_train, X_test, y_train, y_test = train_test_split(X, y, test_size=0.2)"
   ]
  },
  {
   "cell_type": "code",
   "execution_count": null,
   "metadata": {
    "colab": {},
    "colab_type": "code",
    "id": "HiGhOrdyMKJE"
   },
   "outputs": [],
   "source": [
    "# Model generation\n",
    "from sklearn.linear_model import LinearRegression\n",
    "from sklearn.neighbors import KNeighborsRegressor\n",
    "\n",
    "from sklearn.linear_model import Ridge\n",
    "from sklearn.preprocessing import PolynomialFeatures\n",
    "from sklearn.pipeline import make_pipeline"
   ]
  },
  {
   "cell_type": "code",
   "execution_count": null,
   "metadata": {
    "colab": {
     "base_uri": "https://localhost:8080/",
     "height": 170
    },
    "colab_type": "code",
    "id": "BNGpuvRMbxo9",
    "outputId": "81d18c0a-faab-466e-c32a-2db24af9dcad"
   },
   "outputs": [],
   "source": [
    "# Linear regression\n",
    "clfreg = LinearRegression(n_jobs=-1)\n",
    "clfreg.fit(X_train, y_train)\n",
    "# Quadratic Regression 2\n",
    "clfpoly2 = make_pipeline(PolynomialFeatures(2), Ridge())\n",
    "clfpoly2.fit(X_train, y_train)\n",
    "\n",
    "# Quadratic Regression 3\n",
    "clfpoly3 = make_pipeline(PolynomialFeatures(3), Ridge())\n",
    "clfpoly3.fit(X_train, y_train)"
   ]
  },
  {
   "cell_type": "code",
   "execution_count": null,
   "metadata": {
    "colab": {
     "base_uri": "https://localhost:8080/",
     "height": 68
    },
    "colab_type": "code",
    "id": "hgGB3Lx_cHyl",
    "outputId": "cea9b9a8-7d7f-48fc-a1c1-863c155e5e28"
   },
   "outputs": [],
   "source": [
    "# KNN Regression\n",
    "clfknn = KNeighborsRegressor(n_neighbors=2)\n",
    "clfknn.fit(X_train, y_train)"
   ]
  },
  {
   "cell_type": "code",
   "execution_count": null,
   "metadata": {
    "colab": {},
    "colab_type": "code",
    "id": "6kV8nsAGcprN"
   },
   "outputs": [],
   "source": [
    "confidencereg = clfreg.score(X_test, y_test)\n",
    "confidencepoly2 = clfpoly2.score(X_test,y_test)\n",
    "confidencepoly3 = clfpoly3.score(X_test,y_test)\n",
    "confidenceknn = clfknn.score(X_test, y_test)\n"
   ]
  },
  {
   "cell_type": "code",
   "execution_count": null,
   "metadata": {
    "colab": {
     "base_uri": "https://localhost:8080/",
     "height": 85
    },
    "colab_type": "code",
    "id": "3XK54S0mhbHt",
    "outputId": "f0103c38-b927-4931-bf11-7c4bd82e7773"
   },
   "outputs": [],
   "source": [
    "\n",
    "# Printing the forecast\n",
    "\n",
    "forecast_set = clfreg.predict(X_lately)\n",
    "dfreg['Forecast'] = np.nan\n",
    "print(forecast_set,  forecast_out)"
   ]
  },
  {
   "cell_type": "code",
   "execution_count": null,
   "metadata": {
    "colab": {},
    "colab_type": "code",
    "id": "SyVzfAwoh5Bd"
   },
   "outputs": [],
   "source": [
    "last_date = dfreg.iloc[-1].name\n",
    "last_unix = last_date\n",
    "next_unix = last_unix + datetime.timedelta(days=1)\n",
    "\n",
    "for i in forecast_set:\n",
    "    next_date = next_unix\n",
    "    next_unix += datetime.timedelta(days=1)\n",
    "    dfreg.loc[next_date] = [np.nan for _ in range(len(dfreg.columns)-1)]+[i]"
   ]
  },
  {
   "cell_type": "code",
   "execution_count": null,
   "metadata": {
    "colab": {
     "base_uri": "https://localhost:8080/",
     "height": 431
    },
    "colab_type": "code",
    "id": "YO6EDLYwiCIu",
    "outputId": "8b98ec36-c0ca-43d2-caa9-fd95c7e5cdf5"
   },
   "outputs": [],
   "source": [
    "last_date = dfreg.iloc[-1].name\n",
    "last_unix = last_date\n",
    "next_unix = last_unix + datetime.timedelta(days=1)\n",
    "\n",
    "for i in forecast_set:\n",
    "    next_date = next_unix\n",
    "    next_unix += datetime.timedelta(days=1)\n",
    "    dfreg.loc[next_date] = [np.nan for _ in range(len(dfreg.columns)-1)]+[i]\n",
    "dfreg['Adj Close'].tail(500).plot()\n",
    "dfreg['Forecast'].tail(500).plot()\n",
    "plt.legend(loc=4)\n",
    "plt.xlabel('Date')\n",
    "plt.ylabel('Price')\n",
    "plt.show()"
   ]
  },
  {
   "cell_type": "code",
   "execution_count": null,
   "metadata": {
    "colab": {},
    "colab_type": "code",
    "id": "w5UsUVBG02uj"
   },
   "outputs": [],
   "source": []
  }
 ],
 "metadata": {
  "colab": {
   "collapsed_sections": [],
   "name": "Stock Prediction.ipynb",
   "provenance": [],
   "version": "0.3.2"
  },
  "kernelspec": {
   "display_name": "Python 3",
   "language": "python",
   "name": "python3"
  },
  "language_info": {
   "codemirror_mode": {
    "name": "ipython",
    "version": 3
   },
   "file_extension": ".py",
   "mimetype": "text/x-python",
   "name": "python",
   "nbconvert_exporter": "python",
   "pygments_lexer": "ipython3",
   "version": "3.7.3"
  }
 },
 "nbformat": 4,
 "nbformat_minor": 1
}
